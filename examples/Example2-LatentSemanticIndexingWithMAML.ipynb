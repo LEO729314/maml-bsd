{
 "cells": [
  {
   "cell_type": "markdown",
   "metadata": {},
   "source": [
    "# Using Latent Semantic Indexing to Reduce Sparse Vectors"
   ]
  },
  {
   "cell_type": "markdown",
   "metadata": {},
   "source": [
    "### Dipti Jasrasaria and Ed Pyzer-Knapp"
   ]
  },
  {
   "cell_type": "markdown",
   "metadata": {},
   "source": [
    "Long, sparse vectors are not good inputs for machine learning, so how can one use dimensionality reduction to preserve information while eliminating sparseness?\n",
    "\n",
    "This example walks through the concepts and MAML implementation of Latent Semantic Indexing, a tool that can be used for dimensionality reduction of sparse vectors."
   ]
  },
  {
   "cell_type": "markdown",
   "metadata": {},
   "source": [
    "### Introduction to Latent Semantic Indexing (LSI)"
   ]
  },
  {
   "cell_type": "markdown",
   "metadata": {},
   "source": [
    "LSI is a tool that is often used in classifying text documents. Documents are represented as a 'bag of words.' This takes into account the number of times each word appears in a document but doesn't care about the order in which the words appear. LSI maps the document from a large 'word space' to a reduced 'concept space.'\n",
    "\n",
    "However, we will apply this tool to reduce dimensionality of sparse vectors! In our case, a 'document' is one of the sparse vectors in our data set, and the 'words' are the non-zero indices of the sparse vector. I will use 'documents' and 'words' in my explanation of LSI, but know that these things can be applied to vectors as well.\n",
    "\n",
    "Now, it's time to get started with implementing LSI to reduce our sparse vectors!"
   ]
  },
  {
   "cell_type": "markdown",
   "metadata": {},
   "source": [
    "### Step 1: Importing required modules"
   ]
  },
  {
   "cell_type": "markdown",
   "metadata": {},
   "source": [
    "First, we will import the LSI module as well as some other useful python modules."
   ]
  },
  {
   "cell_type": "code",
   "execution_count": 1,
   "metadata": {
    "collapsed": false
   },
   "outputs": [],
   "source": [
    "import pandas as pd  # Used for reading in data.\n",
    "from maml.utils import lsi # This contains all the code to perform LSI.\n",
    "import numpy as np"
   ]
  },
  {
   "cell_type": "code",
   "execution_count": 2,
   "metadata": {
    "collapsed": false
   },
   "outputs": [],
   "source": [
    "# These modules are for plotting.\n",
    "from IPython.display import Image\n",
    "import matplotlib.pyplot as plt\n",
    "import seaborn as sns\n",
    "%matplotlib inline\n",
    "sns.set_style('white')\n",
    "sns.set_context('poster')"
   ]
  },
  {
   "cell_type": "markdown",
   "metadata": {},
   "source": [
    "### Step 2: Reading in data set"
   ]
  },
  {
   "cell_type": "markdown",
   "metadata": {},
   "source": [
    "Now, we will import the dataset of unreduced, sparse vectors. Because these vectors are sparse, they should be represented as a list of their non-zero indices.\n",
    "\n",
    "For example, a vector that is [0, 0, 0, 2, 0, 0, 1, 0, 1, 0, 0, 3] should be represented as [3, 3, 6, 8, 11, 11, 11].\n",
    "\n",
    "We will unpack a dataframe that contains 200 vectors that are $2^{16}$ in length but extremely sparse."
   ]
  },
  {
   "cell_type": "code",
   "execution_count": 3,
   "metadata": {
    "collapsed": false
   },
   "outputs": [
    {
     "data": {
      "text/html": [
       "<div style=\"max-height:1000px;max-width:1500px;overflow:auto;\">\n",
       "<table border=\"1\" class=\"dataframe\">\n",
       "  <thead>\n",
       "    <tr style=\"text-align: right;\">\n",
       "      <th></th>\n",
       "      <th>Sparse Vectors</th>\n",
       "    </tr>\n",
       "  </thead>\n",
       "  <tbody>\n",
       "    <tr>\n",
       "      <th>0</th>\n",
       "      <td>[3466, 3770, 6892, 7117, 7658, 8174, 8188, 104...</td>\n",
       "    </tr>\n",
       "    <tr>\n",
       "      <th>1</th>\n",
       "      <td>[3483, 3773, 4060, 7148, 7611, 7885, 7912, 817...</td>\n",
       "    </tr>\n",
       "    <tr>\n",
       "      <th>2</th>\n",
       "      <td>[3483, 3773, 4060, 7148, 7611, 7885, 7912, 817...</td>\n",
       "    </tr>\n",
       "    <tr>\n",
       "      <th>3</th>\n",
       "      <td>[3483, 3773, 4060, 7148, 7611, 7885, 7912, 817...</td>\n",
       "    </tr>\n",
       "    <tr>\n",
       "      <th>4</th>\n",
       "      <td>[3038, 4057, 8136, 12253, 15597, 16270, 19082,...</td>\n",
       "    </tr>\n",
       "  </tbody>\n",
       "</table>\n",
       "</div>"
      ],
      "text/plain": [
       "                                      Sparse Vectors\n",
       "0  [3466, 3770, 6892, 7117, 7658, 8174, 8188, 104...\n",
       "1  [3483, 3773, 4060, 7148, 7611, 7885, 7912, 817...\n",
       "2  [3483, 3773, 4060, 7148, 7611, 7885, 7912, 817...\n",
       "3  [3483, 3773, 4060, 7148, 7611, 7885, 7912, 817...\n",
       "4  [3038, 4057, 8136, 12253, 15597, 16270, 19082,..."
      ]
     },
     "execution_count": 3,
     "metadata": {},
     "output_type": "execute_result"
    }
   ],
   "source": [
    "# load data\n",
    "data = pd.read_pickle('data/sparse.pkl')\n",
    "# display head of dataframe\n",
    "data.head()"
   ]
  },
  {
   "cell_type": "markdown",
   "metadata": {},
   "source": [
    "Now we will set these sparse vectors as a set of documents so that it can be used for LSI. "
   ]
  },
  {
   "cell_type": "code",
   "execution_count": 4,
   "metadata": {
    "collapsed": true
   },
   "outputs": [],
   "source": [
    "documents = data['Sparse Vectors'].values"
   ]
  },
  {
   "cell_type": "markdown",
   "metadata": {},
   "source": [
    "### Step 3: Building counts matrix"
   ]
  },
  {
   "cell_type": "markdown",
   "metadata": {},
   "source": [
    "The first step of LSI is to build a counts matrix that states how many times each word appears in each document. However, the counts matrix is only concerned with words that appear in more than one document.\n",
    "\n",
    "This builds an extremely large but extremely sparse matrix. MAML's implementation of LSI takes advantage of the sparseness to require less time and memory."
   ]
  },
  {
   "cell_type": "markdown",
   "metadata": {},
   "source": [
    "### Step 4. Modifying counts"
   ]
  },
  {
   "cell_type": "markdown",
   "metadata": {},
   "source": [
    "The next step is to modify the counts using Term Frequency-Inverse Document Frequency (TF-IDF).\n",
    "\n",
    "This gives a higher weight to words that are uncommon and a lower weight to very common words. This is because the occurence of an uncommon word, like 'xylophone,' gives much more insight into a document's meaning than the occurrence of a word, like 'the,' that appears all the time."
   ]
  },
  {
   "cell_type": "markdown",
   "metadata": {},
   "source": [
    "### Step 5. Reducing using Singular Value Decomposition"
   ]
  },
  {
   "cell_type": "markdown",
   "metadata": {},
   "source": [
    "Finally, we will reduce the modified counts matrix using Singular Value Decomposition (SVD).\n",
    " \n",
    "SVD decomposes the modified counts matrix, A (which is n documents mapped onto a space of m words), into three other matrices:\n",
    "1. **U matrix** - this is the mapping of m words onto a k-dimensional concept space\n",
    "2. **S matrix** - this is a diagonal, k by k, matrix of singular values; the singular value for a dimension tells you how much that dimension of the reduced concept space contributes to the overall space\n",
    "3. **Vt matrix** - this is the mapping of n documents onto a k-dimensional concept space"
   ]
  },
  {
   "cell_type": "code",
   "execution_count": 5,
   "metadata": {
    "collapsed": false
   },
   "outputs": [
    {
     "data": {
      "image/png": "[encoded data removed]",
      "text/plain": [
       "<IPython.core.display.Image object>"
      ]
     },
     "execution_count": 5,
     "metadata": {},
     "output_type": "execute_result"
    }
   ],
   "source": [
    "Image(filename='svd.png')"
   ]
  },
  {
   "cell_type": "markdown",
   "metadata": {},
   "source": [
    "### Step 6. Finding the right K value"
   ]
  },
  {
   "cell_type": "markdown",
   "metadata": {},
   "source": [
    "The next step is to figure out the right k-value, the number of dimensions in our reduced concept space.\n",
    "\n",
    "We want to find a k that is big enough that it retains much of the information in the sparse vectors but that is small enough that it doesn't include extra noise.\n",
    "\n",
    "Unfortunately, there's no rigorous way to calculate the optimal k value. Instead, the best way is to plot the singular values and determine where the curve begins to level off. Let's do that now by plotting the first 50 singular values for the concept space!"
   ]
  },
  {
   "cell_type": "code",
   "execution_count": 6,
   "metadata": {
    "collapsed": false
   },
   "outputs": [],
   "source": [
    "svs = lsi.get_svs(documents, k=50)"
   ]
  },
  {
   "cell_type": "code",
   "execution_count": 7,
   "metadata": {
    "collapsed": false
   },
   "outputs": [
    {
     "data": {
      "text/plain": [
       "<matplotlib.text.Text at 0x7f1a40b86a90>"
      ]
     },
     "execution_count": 7,
     "metadata": {},
     "output_type": "execute_result"
    },
    {
     "data": {
      "image/png": "[encoded data removed]",
      "text/plain": [
       "<matplotlib.figure.Figure at 0x7f1a40c72a50>"
      ]
     },
     "metadata": {},
     "output_type": "display_data"
    }
   ],
   "source": [
    "plt.figure(figsize=(8, 6))\n",
    "plt.plot(svs)\n",
    "plt.axvline(x=7, color='red')\n",
    "plt.title('Optimal K Value for Dataset')\n",
    "plt.xlabel('Dimension (K)')\n",
    "plt.ylabel('Singular Value')"
   ]
  },
  {
   "cell_type": "markdown",
   "metadata": {},
   "source": [
    "As we can see in the plot above, the singular values start to level off at 7, making it a good k value to choose.  We can also take advantage of the fact that you can relate the reconstruction error (the Frobenius norm of the difference between the reconstructed matrix to the initial matrix) to the sum of the discarded singular values."
   ]
  },
  {
   "cell_type": "markdown",
   "metadata": {},
   "source": [
    "As a quick reminder, the Frobenius norm (sometimes called the Hilbert–Schmidt norm) can be defined as:\n",
    "\n",
    "$\\|A\\|_F=\\sqrt{\\sum_{i=1}^m\\sum_{j=1}^n |a_{ij}|^2}=\\sqrt{\\operatorname{trace}(A^{{}^*}A)}=\\sqrt{\\sum_{i=1}^{\\min\\{m,\\,n\\}} \\sigma_i^2}$\n",
    "\n",
    "where $A*$ denotes the conjugate transpose of $A$, and $\\sigma_{i}$ are the singular values of A"
   ]
  },
  {
   "cell_type": "code",
   "execution_count": 8,
   "metadata": {
    "collapsed": false
   },
   "outputs": [],
   "source": [
    "reconstruction_error = [np.sum(np.array(svs[i:])) for i in range(len(svs))]"
   ]
  },
  {
   "cell_type": "code",
   "execution_count": 9,
   "metadata": {
    "collapsed": false
   },
   "outputs": [
    {
     "data": {
      "text/plain": [
       "<matplotlib.text.Text at 0x7f1a40b86610>"
      ]
     },
     "execution_count": 9,
     "metadata": {},
     "output_type": "execute_result"
    },
    {
     "data": {
      "image/png": "[encoded data removed]",
      "text/plain": [
       "<matplotlib.figure.Figure at 0x7f1a40bc8910>"
      ]
     },
     "metadata": {},
     "output_type": "display_data"
    }
   ],
   "source": [
    "plt.figure(figsize=(8, 6))\n",
    "plt.plot(reconstruction_error)\n",
    "plt.axvline(x=7, color='red')\n",
    "plt.title('Reconstruction Error as a Function of K')\n",
    "plt.xlabel('Dimension (K)')\n",
    "plt.ylabel('Reconstruction Error')"
   ]
  },
  {
   "cell_type": "markdown",
   "metadata": {},
   "source": [
    "Now, that we know the k value we want and we know how LSI works, we can use it to reduce our sparse vectors. The following function executes steps 3 through 5 that are described above and returns an array of the reduced vectors."
   ]
  },
  {
   "cell_type": "markdown",
   "metadata": {},
   "source": [
    "### Step 7. Running LSI to reduce vectors"
   ]
  },
  {
   "cell_type": "code",
   "execution_count": 10,
   "metadata": {
    "collapsed": true
   },
   "outputs": [],
   "source": [
    "reduced_docs = lsi.LSI(documents, k=7, return_svs=False)"
   ]
  },
  {
   "cell_type": "markdown",
   "metadata": {},
   "source": [
    "Because we're not interested in seeing our singular values again, we set 'return_svs' to False. However, if we did want to see the singular values, we could set that parameter to True."
   ]
  },
  {
   "cell_type": "markdown",
   "metadata": {},
   "source": [
    "### Step 8. Saving vectors for later use"
   ]
  },
  {
   "cell_type": "markdown",
   "metadata": {},
   "source": [
    "Now that we have our reduced vectors, let's save them so that we can use them to do more cool things, like machine learning. We'll first create a dataframe and then write it to a pickle file."
   ]
  },
  {
   "cell_type": "code",
   "execution_count": 11,
   "metadata": {
    "collapsed": false
   },
   "outputs": [],
   "source": [
    "# create dataframe\n",
    "d = {'Reduced Vectors': reduced_docs}\n",
    "df = pd.DataFrame(data=d)\n",
    "# write to pickle\n",
    "df.to_pickle('data/reduced.pkl')"
   ]
  },
  {
   "cell_type": "code",
   "execution_count": 12,
   "metadata": {
    "collapsed": false
   },
   "outputs": [
    {
     "data": {
      "text/html": [
       "<div style=\"max-height:1000px;max-width:1500px;overflow:auto;\">\n",
       "<table border=\"1\" class=\"dataframe\">\n",
       "  <thead>\n",
       "    <tr style=\"text-align: right;\">\n",
       "      <th></th>\n",
       "      <th>Reduced Vectors</th>\n",
       "    </tr>\n",
       "  </thead>\n",
       "  <tbody>\n",
       "    <tr>\n",
       "      <th>0</th>\n",
       "      <td>[-0.0167576855395, 0.0198265284539, 0.00379064...</td>\n",
       "    </tr>\n",
       "    <tr>\n",
       "      <th>1</th>\n",
       "      <td>[-0.00183582297102, -0.00261856246365, 0.00796...</td>\n",
       "    </tr>\n",
       "    <tr>\n",
       "      <th>2</th>\n",
       "      <td>[-0.00179665484873, -0.00266041060702, 0.00792...</td>\n",
       "    </tr>\n",
       "    <tr>\n",
       "      <th>3</th>\n",
       "      <td>[0.00203753062206, -0.00222866909215, 0.002504...</td>\n",
       "    </tr>\n",
       "    <tr>\n",
       "      <th>4</th>\n",
       "      <td>[-0.000413956829628, -0.000427230220381, -0.00...</td>\n",
       "    </tr>\n",
       "  </tbody>\n",
       "</table>\n",
       "</div>"
      ],
      "text/plain": [
       "                                     Reduced Vectors\n",
       "0  [-0.0167576855395, 0.0198265284539, 0.00379064...\n",
       "1  [-0.00183582297102, -0.00261856246365, 0.00796...\n",
       "2  [-0.00179665484873, -0.00266041060702, 0.00792...\n",
       "3  [0.00203753062206, -0.00222866909215, 0.002504...\n",
       "4  [-0.000413956829628, -0.000427230220381, -0.00..."
      ]
     },
     "execution_count": 12,
     "metadata": {},
     "output_type": "execute_result"
    }
   ],
   "source": [
    "# display head of dataframe\n",
    "df.head()"
   ]
  },
  {
   "cell_type": "markdown",
   "metadata": {},
   "source": [
    "As we can see, these vectors are much shorter and less sparse than our original vectors -- much better for things like machine learning. To learn more about machine learning and how to implement certain algorithms, check out MAML's [tutorial on neural networks](https://github.com/epyzerknapp/maml/blob/master/examples/Example1-NeuralNetworksWithMAML.ipynb)!"
   ]
  }
 ],
 "metadata": {
  "kernelspec": {
   "display_name": "Python 2",
   "language": "python",
   "name": "python2"
  },
  "language_info": {
   "codemirror_mode": {
    "name": "ipython",
    "version": 2
   },
   "file_extension": ".py",
   "mimetype": "text/x-python",
   "name": "python",
   "nbconvert_exporter": "python",
   "pygments_lexer": "ipython2",
   "version": "2.7.10"
  }
 },
 "nbformat": 4,
 "nbformat_minor": 0
}
