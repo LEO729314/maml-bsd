{
 "cells": [
  {
   "cell_type": "markdown",
   "metadata": {},
   "source": [
    "#Example 1: Running a functional neural network with MAML"
   ]
  },
  {
   "cell_type": "markdown",
   "metadata": {},
   "source": [
    "##Ed Pyzer-Knapp"
   ]
  },
  {
   "cell_type": "markdown",
   "metadata": {},
   "source": [
    "In this example, we will go through in detail how a neural network is implemented, through examining the functional neural network which we have implemented in MAML."
   ]
  },
  {
   "cell_type": "markdown",
   "metadata": {},
   "source": [
    "###Step 1. Importing required modules"
   ]
  },
  {
   "cell_type": "markdown",
   "metadata": {},
   "source": [
    "We need some standard python modules to perform the setup of the network (for example reading in features), and we need to import the network pieces themselves from the MAML package"
   ]
  },
  {
   "cell_type": "code",
   "execution_count": 4,
   "metadata": {
    "collapsed": true
   },
   "outputs": [],
   "source": [
    "import hickle as hkl #Used for reading in the data\n",
    "import pickle as pkl #Used for saving the trained network and the output\n",
    "import sklearn.cross_validation as cv #For splitting the training and testing data\n",
    "import numpy as np #Used to create arrays for feeding into the network\n",
    "from maml import neural_networks as nn #This contains all the network pieces"
   ]
  },
  {
   "cell_type": "markdown",
   "metadata": {},
   "source": [
    "###Step 2. Reading in the data set"
   ]
  },
  {
   "cell_type": "markdown",
   "metadata": {},
   "source": [
    "We of course need some data to train on.  We will use the example data included in maml, which is provided as a hickle file.  This will unpack to a dictionary with the following keys:\n",
    "\n",
    "* '1024_morgans_r2' --> Inputs, radius 2 morgan circular fingerprints (from the RDKit) as bitvectors of length 1024\n",
    "* 'homos' --> HOMO energies of the lowest energy conformer of the molecule calculated as BP86/def2-SVP\n",
    "* 'lumos' --> LUMO energies of the lowest energy conformer of the molecule calculated as BP86/def2-SVP\n",
    "* 'pces' --> Power Conversion Efficiencies of the lowest energy conformer of the molecules calculated using the Scharber Model"
   ]
  },
  {
   "cell_type": "code",
   "execution_count": 2,
   "metadata": {
    "collapsed": true
   },
   "outputs": [],
   "source": [
    "data = hkl.load('data/func_nn_example_data.hkl')"
   ]
  },
  {
   "cell_type": "markdown",
   "metadata": {},
   "source": [
    "The inputs (X) are the morgan circular fingerprints"
   ]
  },
  {
   "cell_type": "code",
   "execution_count": 3,
   "metadata": {
    "collapsed": true
   },
   "outputs": [],
   "source": [
    "X = data['1024_morgans_r2']"
   ]
  },
  {
   "cell_type": "markdown",
   "metadata": {},
   "source": [
    "The ouputs are the HOMO, LUMO and PCE values.  We will train against them all at the same time, since this will produce a more robust network.  This is because it is much harder to simultaneously overfit for three variables at the same time."
   ]
  },
  {
   "cell_type": "code",
   "execution_count": 5,
   "metadata": {
    "collapsed": true
   },
   "outputs": [],
   "source": [
    "Y = np.array([data[t] for t in ['homos','lumos', 'pces']]).T"
   ]
  },
  {
   "cell_type": "markdown",
   "metadata": {},
   "source": [
    "###Step 3. Normalizing the targets"
   ]
  },
  {
   "cell_type": "markdown",
   "metadata": {},
   "source": [
    "It is generally considered a good idea to normalize the target values to have a 0 mean and unit standard deviation when training a neural network.  If you have a collection of features which are of different magnitudes, you can also scale these the same way to ensure that no one feature dominates just due to the units is is reported in.  Since our targets are bitvectors (0s and 1s) it is not necessary for us to do that here."
   ]
  },
  {
   "cell_type": "code",
   "execution_count": 6,
   "metadata": {
    "collapsed": true
   },
   "outputs": [],
   "source": [
    "Y_mean = np.mean(Y)\n",
    "Y_std = np.std(Y)\n",
    "Y = (Y - Y_mean) / Y_std"
   ]
  },
  {
   "cell_type": "markdown",
   "metadata": {},
   "source": [
    "###Step 4. Splitting the data into training and testing"
   ]
  },
  {
   "cell_type": "markdown",
   "metadata": {},
   "source": [
    "In addition to training the network, we need some data to test the trained network on. We will use the useful train_test_split tool in the sklearn cross_validation module. The seed can be set to make sure that the sets are the same, or not set to create new training and validation sets each time.  We will try an 80/20 split here, although feel free to change this and see how it affects the results! "
   ]
  },
  {
   "cell_type": "code",
   "execution_count": 7,
   "metadata": {
    "collapsed": true
   },
   "outputs": [],
   "source": [
    "X_train, X_test, Y_train, Y_test = cv.train_test_split(X, Y, test_size=0.2, random_state=99)"
   ]
  },
  {
   "cell_type": "markdown",
   "metadata": {},
   "source": [
    "###Step 5. Performing the training"
   ]
  },
  {
   "cell_type": "markdown",
   "metadata": {},
   "source": [
    "This is actually very easy in MAML! We have implemented a 'train' function which does all of the heavy lifting.  If you want more information as to how this works, look at the next tutorial in which we delve a little deeper into how the functional neural network works. \n",
    "\n",
    "To call 'train',we must specify a couple of parameters:\n",
    "\n",
    "* X_train,X_test,Y_train,Y_test\n",
    "* The number of nodes in each hidden layer (list)\n",
    "* The activation function (tanh or logistic)\n",
    "* The starting learn rate\n",
    "* The number of epochs\n",
    "* The number of cores to use for training\n",
    "* The threshold for early termination."
   ]
  },
  {
   "cell_type": "code",
   "execution_count": 8,
   "metadata": {
    "collapsed": false
   },
   "outputs": [
    {
     "name": "stdout",
     "output_type": "stream",
     "text": [
      "0 [ 0.79749587  0.53260267  3.37609539]\n",
      "50 [ 0.00213001  0.00315088  0.36682794]\n",
      "100 [ 0.00050124  0.00126874  0.35863491]\n",
      "150 [  1.57737834e-04   6.11104626e-04   3.72321370e-01]\n",
      "200 [  1.75214132e-04   3.27035128e-04   3.93069112e-01]\n",
      "250 [  2.43124032e-04   1.24171529e-04   3.70358270e-01]\n",
      "300 [  2.01850627e-04   2.98118590e-04   3.67640105e-01]\n",
      "350 [  2.55262036e-04   1.95335956e-04   3.76604351e-01]\n",
      "400 [  2.68716662e-04   2.15912421e-04   3.68003899e-01]\n",
      "450 [  2.88656431e-04   1.76687874e-04   3.68679410e-01]\n",
      "500 [  3.01474854e-04   4.32689776e-04   3.68858769e-01]\n",
      "550 [  2.72500132e-04   3.77211997e-04   3.68646150e-01]\n",
      "600 [  2.38099979e-04   2.74094398e-04   3.72682428e-01]\n",
      "650 [  2.21818122e-04   2.29430209e-04   3.69298038e-01]\n",
      "700 [  2.73774956e-04   2.04272551e-04   3.71793863e-01]\n",
      "750 [  2.24405250e-04   2.24031622e-04   3.77737747e-01]\n",
      "800 [  2.89236600e-04   4.08214924e-04   3.76288586e-01]\n",
      "850 [  2.36223338e-04   3.33150015e-04   3.74889492e-01]\n"
     ]
    }
   ],
   "source": [
    "nnet = nn.train(X_train,X_test,Y_train,Y_test,[32],'logistic',learn_rate=0.002,\n",
    "                n_epochs=1000,n_cores=1, threshold=0.1)                                   "
   ]
  },
  {
   "cell_type": "markdown",
   "metadata": {},
   "source": [
    "### Step 6. Testing the network on the validation set"
   ]
  },
  {
   "cell_type": "markdown",
   "metadata": {},
   "source": [
    "Since the network has been trained on a large set of molecules, there is a chance that it has learned, in addition to a QSPR, the noise which is in that set.  This is known as overfitting. In order to test this, we must provide an external set of molecules which the network has not seen before.  Luckily we have such a set -- we made it in Step 4! We also need to remember to 'undo' the normalization we did in Step 3."
   ]
  },
  {
   "cell_type": "code",
   "execution_count": 9,
   "metadata": {
    "collapsed": true
   },
   "outputs": [],
   "source": [
    "prediction = nn.output(X_test, nnet)"
   ]
  },
  {
   "cell_type": "code",
   "execution_count": 11,
   "metadata": {
    "collapsed": false
   },
   "outputs": [],
   "source": [
    "prediction = (Y_std * prediction) + Y_mean"
   ]
  },
  {
   "cell_type": "code",
   "execution_count": 12,
   "metadata": {
    "collapsed": true
   },
   "outputs": [],
   "source": [
    "Y_test = (Y_test * Y_std) + Y_mean"
   ]
  },
  {
   "cell_type": "code",
   "execution_count": 13,
   "metadata": {
    "collapsed": true
   },
   "outputs": [],
   "source": [
    "error = prediction - Y_test"
   ]
  },
  {
   "cell_type": "code",
   "execution_count": 17,
   "metadata": {
    "collapsed": false
   },
   "outputs": [
    {
     "name": "stdout",
     "output_type": "stream",
     "text": [
      "[ 0.02616814  0.03072193  0.70327553]\n"
     ]
    }
   ],
   "source": [
    "MAE = np.mean(np.abs(error), axis=0)\n",
    "print MAE"
   ]
  },
  {
   "cell_type": "markdown",
   "metadata": {},
   "source": [
    "###Step 7. Plotting the results"
   ]
  },
  {
   "cell_type": "markdown",
   "metadata": {},
   "source": [
    "It is nice to have a plot of the results to get an intuition about the success of the training.  We will use the jointplot in the Seaborn package to plot here, with density estimated using a KDE.  Here we will only plot the PCE performance, but you can easily change this to plot the other properties too!"
   ]
  },
  {
   "cell_type": "code",
   "execution_count": 18,
   "metadata": {
    "collapsed": true
   },
   "outputs": [],
   "source": [
    "import pylab as pl\n",
    "import pandas as pd\n",
    "import seaborn as sns"
   ]
  },
  {
   "cell_type": "code",
   "execution_count": 19,
   "metadata": {
    "collapsed": false
   },
   "outputs": [
    {
     "name": "stdout",
     "output_type": "stream",
     "text": [
      "Populating the interactive namespace from numpy and matplotlib\n"
     ]
    }
   ],
   "source": [
    "%pylab inline"
   ]
  },
  {
   "cell_type": "code",
   "execution_count": 20,
   "metadata": {
    "collapsed": true
   },
   "outputs": [],
   "source": [
    "sns.set_style('white')\n",
    "sns.set_context('poster')"
   ]
  },
  {
   "cell_type": "code",
   "execution_count": 23,
   "metadata": {
    "collapsed": false
   },
   "outputs": [
    {
     "data": {
      "image/png": "[encoded data removed]",
      "text/plain": [
       "<matplotlib.figure.Figure at 0x7f01dacf72d0>"
      ]
     },
     "metadata": {},
     "output_type": "display_data"
    }
   ],
   "source": [
    "x1 = pd.Series(np.array([x[2] for x in prediction]), name='Predicted PCE (%)')\n",
    "x2 = pd.Series(np.array([x[2] for x in Y_test]), name='Calculated PCE (%)')\n",
    "\n",
    "g = sns.jointplot(x1, x2, kind='kde', size=7, space=0)\n"
   ]
  },
  {
   "cell_type": "markdown",
   "metadata": {},
   "source": [
    "###Step 7. Saving the network for later use"
   ]
  },
  {
   "cell_type": "markdown",
   "metadata": {},
   "source": [
    "If you want to use this network again, it is important to save it to a file.  We use pickle for this, since it is easy to restore this as an object in python."
   ]
  },
  {
   "cell_type": "code",
   "execution_count": 16,
   "metadata": {
    "collapsed": true
   },
   "outputs": [],
   "source": [
    "with open('trained_network.pkl', 'w') as fp:\n",
    "    pkl.dump(nnet, fp)"
   ]
  }
 ],
 "metadata": {
  "kernelspec": {
   "display_name": "Python 2",
   "language": "python",
   "name": "python2"
  },
  "language_info": {
   "codemirror_mode": {
    "name": "ipython",
    "version": 2
   },
   "file_extension": ".py",
   "mimetype": "text/x-python",
   "name": "python",
   "nbconvert_exporter": "python",
   "pygments_lexer": "ipython2",
   "version": "2.7.10"
  }
 },
 "nbformat": 4,
 "nbformat_minor": 0
}
